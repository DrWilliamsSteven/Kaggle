{
 "cells": [
  {
   "metadata": {},
   "cell_type": "markdown",
   "source": "# 1. Import Libraries"
  },
  {
   "metadata": {},
   "cell_type": "code",
   "source": "import pandas as pd\nimport numpy as np\nimport matplotlib.pyplot as plt\nimport seaborn as sns\n%matplotlib inline",
   "execution_count": null,
   "outputs": []
  },
  {
   "metadata": {},
   "cell_type": "markdown",
   "source": "# 2. Read in the data, and check out training set"
  },
  {
   "metadata": {},
   "cell_type": "code",
   "source": "train = pd.read_csv('../input/train.csv')\ntest = pd.read_csv('../input/test.csv')",
   "execution_count": null,
   "outputs": []
  },
  {
   "metadata": {},
   "cell_type": "code",
   "source": "combined = pd.concat([ train, test ])",
   "execution_count": null,
   "outputs": []
  },
  {
   "metadata": {},
   "cell_type": "code",
   "source": "combined.describe()",
   "execution_count": null,
   "outputs": []
  },
  {
   "metadata": {},
   "cell_type": "markdown",
   "source": "# 3. Exploratory Data Analysis\n\nLet's begin some exploratory data analysis! We'll start by checking out missing data!\n\n## Missing Data\n\nWe can use seaborn to create a simple heatmap to see where we are missing data!"
  },
  {
   "metadata": {},
   "cell_type": "code",
   "source": "sns.heatmap(combined.isnull(),yticklabels=False,cbar=False,cmap='viridis')",
   "execution_count": null,
   "outputs": []
  },
  {
   "metadata": {},
   "cell_type": "markdown",
   "source": "Roughly 20 percent of the Age data is missing. The proportion of Age missing is likely small enough for reasonable replacement with some form of imputation. Looking at the Cabin column, it looks like we are just missing too much of that data to do something useful with at a basic level. We'll probably drop this later, or change it to another feature like \"Cabin Known: 1 or 0\"\n\nLet's continue on by visualizing some more of the data! Check out the video for full explanations over these plots, this code is just to serve as reference."
  },
  {
   "metadata": {},
   "cell_type": "code",
   "source": "sns.set_style('whitegrid')\nsns.countplot(x='Survived', data=combined, palette='RdBu_r')",
   "execution_count": null,
   "outputs": []
  },
  {
   "metadata": {},
   "cell_type": "code",
   "source": "sns.set_style('whitegrid')\nsns.countplot(x='Survived', hue='Sex', data=combined, palette='RdBu_r')",
   "execution_count": null,
   "outputs": []
  },
  {
   "metadata": {},
   "cell_type": "code",
   "source": "sns.set_style('whitegrid')\nsns.countplot(x='Survived', hue='Pclass', data=combined, palette='rainbow')",
   "execution_count": null,
   "outputs": []
  },
  {
   "metadata": {},
   "cell_type": "code",
   "source": "sns.distplot(combined['Age'].dropna(), kde=False, color='darkred', bins=30)",
   "execution_count": null,
   "outputs": []
  },
  {
   "metadata": {},
   "cell_type": "code",
   "source": "sns.countplot(x='SibSp',data=combined)",
   "execution_count": null,
   "outputs": []
  },
  {
   "metadata": {},
   "cell_type": "code",
   "source": "combined['Fare'].hist(color='green',bins=40,figsize=(8,4))",
   "execution_count": null,
   "outputs": []
  },
  {
   "metadata": {},
   "cell_type": "markdown",
   "source": "___\n## Data Cleaning\nWe want to fill in missing age data instead of just dropping the missing age data rows. One way to do this is by filling in the mean age of all the passengers (imputation).\nHowever we can be smarter about this and check the average age by passenger class. For example:\n"
  },
  {
   "metadata": {},
   "cell_type": "code",
   "source": "plt.figure(figsize=(12, 7))\nsns.boxplot(x='Pclass',y='Age',data=combined,palette='winter')",
   "execution_count": null,
   "outputs": []
  },
  {
   "metadata": {},
   "cell_type": "markdown",
   "source": "We can see the wealthier passengers in the higher classes tend to be older, which makes sense. We'll use these average age values to impute based on Pclass for Age."
  },
  {
   "metadata": {},
   "cell_type": "code",
   "source": "def impute_age(cols):\n    Age = cols[0]\n    Pclass = cols[1]\n    \n    if pd.isnull(Age):\n\n        if Pclass == 1:\n            return 37\n\n        elif Pclass == 2:\n            return 29\n\n        else:\n            return 24\n\n    else:\n        return Age",
   "execution_count": null,
   "outputs": []
  },
  {
   "metadata": {},
   "cell_type": "markdown",
   "source": "Now apply that function!"
  },
  {
   "metadata": {},
   "cell_type": "code",
   "source": "combined['Age'] = combined[['Age','Pclass']].apply(impute_age, axis=1)",
   "execution_count": null,
   "outputs": []
  },
  {
   "metadata": {},
   "cell_type": "markdown",
   "source": "Now let's check that heat map again!"
  },
  {
   "metadata": {},
   "cell_type": "code",
   "source": "sns.heatmap(combined.isnull(),yticklabels=False,cbar=False,cmap='viridis')",
   "execution_count": null,
   "outputs": []
  },
  {
   "metadata": {},
   "cell_type": "markdown",
   "source": "Great! Let's go ahead and drop the Cabin column and the row in Embarked that is NaN."
  },
  {
   "metadata": {},
   "cell_type": "code",
   "source": "combined.drop('Cabin', axis=1, inplace=True)",
   "execution_count": null,
   "outputs": []
  },
  {
   "metadata": {},
   "cell_type": "code",
   "source": "combined.head()",
   "execution_count": null,
   "outputs": []
  },
  {
   "metadata": {},
   "cell_type": "code",
   "source": "combined.dropna(inplace=True, subset=['Embarked'])",
   "execution_count": null,
   "outputs": []
  },
  {
   "metadata": {},
   "cell_type": "code",
   "source": "",
   "execution_count": null,
   "outputs": []
  },
  {
   "metadata": {},
   "cell_type": "markdown",
   "source": "## Converting Categorical Features \n\nWe'll need to convert categorical features to dummy variables using pandas! Otherwise our machine learning algorithm won't be able to directly take in those features as inputs."
  },
  {
   "metadata": {},
   "cell_type": "code",
   "source": "combined.info()",
   "execution_count": null,
   "outputs": []
  },
  {
   "metadata": {},
   "cell_type": "code",
   "source": "sex = pd.get_dummies(combined['Sex'], drop_first=True)\nembark = pd.get_dummies(combined['Embarked'], drop_first=True)",
   "execution_count": null,
   "outputs": []
  },
  {
   "metadata": {},
   "cell_type": "code",
   "source": "combined.drop(['Sex','Embarked','Name','Ticket'], axis=1, inplace=True)",
   "execution_count": null,
   "outputs": []
  },
  {
   "metadata": {},
   "cell_type": "code",
   "source": "combined = pd.concat([combined,sex,embark], axis=1)",
   "execution_count": null,
   "outputs": []
  },
  {
   "metadata": {},
   "cell_type": "code",
   "source": "combined.head()",
   "execution_count": null,
   "outputs": []
  },
  {
   "metadata": {},
   "cell_type": "code",
   "source": "sns.heatmap(combined.isnull(),yticklabels=False,cbar=False,cmap='viridis')",
   "execution_count": null,
   "outputs": []
  },
  {
   "metadata": {},
   "cell_type": "markdown",
   "source": "# 4. Building a Logistic Regression model\n\nLet's start by splitting our data into a training set and test set (there is another test.csv file that you can play around with in case you want to use all this data for training).\n\n## Train Test Split"
  },
  {
   "metadata": {},
   "cell_type": "code",
   "source": "from sklearn.model_selection import train_test_split",
   "execution_count": null,
   "outputs": []
  },
  {
   "metadata": {},
   "cell_type": "code",
   "source": "train = combined[combined['Survived'].notnull()]\ntest = combined[combined['Survived'].isnull()]\ntest = test.drop('Survived', axis=1)",
   "execution_count": null,
   "outputs": []
  },
  {
   "metadata": {},
   "cell_type": "code",
   "source": "X_train, X_test, y_train, y_test = train_test_split(train.drop(['Survived', 'PassengerId'],axis=1), \n                                                    train['Survived'], test_size=0.30, \n                                                    random_state=101)",
   "execution_count": null,
   "outputs": []
  },
  {
   "metadata": {},
   "cell_type": "markdown",
   "source": "## Training and Predicting"
  },
  {
   "metadata": {},
   "cell_type": "code",
   "source": "from sklearn.linear_model import LogisticRegression",
   "execution_count": null,
   "outputs": []
  },
  {
   "metadata": {},
   "cell_type": "code",
   "source": "logmodel = LogisticRegression()\nlogmodel.fit(X_train,y_train)",
   "execution_count": null,
   "outputs": []
  },
  {
   "metadata": {},
   "cell_type": "code",
   "source": "predictions = logmodel.predict(X_test)",
   "execution_count": null,
   "outputs": []
  },
  {
   "metadata": {},
   "cell_type": "markdown",
   "source": "# 5. Evaluation"
  },
  {
   "metadata": {},
   "cell_type": "markdown",
   "source": "We can check precision, recall, f1-score using classification report!"
  },
  {
   "metadata": {},
   "cell_type": "code",
   "source": "from sklearn.metrics import classification_report",
   "execution_count": null,
   "outputs": []
  },
  {
   "metadata": {},
   "cell_type": "code",
   "source": "print(classification_report(y_test,predictions))",
   "execution_count": null,
   "outputs": []
  },
  {
   "metadata": {},
   "cell_type": "markdown",
   "source": "___\n# 6. Creating Submission File"
  },
  {
   "metadata": {},
   "cell_type": "code",
   "source": "np.any(np.isnan(test))\n#np.all(np.isfinite(test))",
   "execution_count": null,
   "outputs": []
  },
  {
   "metadata": {},
   "cell_type": "code",
   "source": "",
   "execution_count": null,
   "outputs": []
  },
  {
   "metadata": {},
   "cell_type": "code",
   "source": "sns.heatmap(test.isnull(),yticklabels=False,cbar=False,cmap='viridis')",
   "execution_count": null,
   "outputs": []
  },
  {
   "metadata": {},
   "cell_type": "code",
   "source": "test = test.fillna(0)",
   "execution_count": null,
   "outputs": []
  },
  {
   "metadata": {},
   "cell_type": "code",
   "source": "sns.heatmap(test.isnull(),yticklabels=False,cbar=False,cmap='viridis')",
   "execution_count": null,
   "outputs": []
  },
  {
   "metadata": {},
   "cell_type": "code",
   "source": "#set ids as PassengerId and predict survival \nids = test['PassengerId']\npredictions = logmodel.predict(test.drop('PassengerId', axis=1))\n\n#set the output as a dataframe and convert to csv file named submission.csv\noutput = pd.DataFrame({ 'PassengerId' : ids, 'Survived': predictions })\noutput.to_csv('submission.csv', index=False)",
   "execution_count": null,
   "outputs": []
  }
 ],
 "metadata": {
  "language_info": {
   "name": "python",
   "pygments_lexer": "ipython3"
  }
 },
 "nbformat": 4,
 "nbformat_minor": 1
}
